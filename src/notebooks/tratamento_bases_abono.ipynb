{
 "cells": [
  {
   "cell_type": "markdown",
   "metadata": {},
   "source": [
    "## Importação da base\n",
    "\n",
    "Foram baixados e carregados na pasta AbonoPermanenciaDatabases, bases de dados correspondentes a todos os servidores públicos cadastrados que recebem abono permanência nos meses de janeiro e julho dos anos de 2017 a 2021.\n",
    "\n",
    "download feito através do site: http://www.dados.gov.br/dataset/gastos-pessoal-abono-permanencia\n",
    "\n",
    "Todas as bases são de domínio público."
   ]
  },
  {
   "cell_type": "code",
   "execution_count": 2,
   "metadata": {},
   "outputs": [],
   "source": [
    "import pandas as pd\n",
    "\n",
    "column_names = ['nome', 'CPF', 'descricao_cargo', 'escolaridade', 'orgao_atuacao', 'UPAG', 'unidade_organizacional',\n",
    "'UF_residencia', 'cidade_residencia', 'situacao', 'anos_servico', 'meses_servico', 'ano/mes_inicio', 'valor_abono']\n",
    "\n",
    "df = pd.read_csv(\"../AbonoPermanenciaDatabases/ABONOP_07_2021.csv\", sep=';', index_col=False, encoding='cp860')\n",
    "df.columns = column_names"
   ]
  },
  {
   "cell_type": "markdown",
   "metadata": {},
   "source": [
    "### Removendo espaços no início e no fim das entradas"
   ]
  },
  {
   "cell_type": "code",
   "execution_count": 5,
   "metadata": {},
   "outputs": [],
   "source": [
    "def strip_dataframe(df, columns):\n",
    "    for col in columns:\n",
    "        stripped = []\n",
    "        for string in df[col]:\n",
    "            stripped.append(string.strip())\n",
    "        df[col] = pd.Series(stripped)\n",
    "    return df"
   ]
  },
  {
   "cell_type": "code",
   "execution_count": 6,
   "metadata": {},
   "outputs": [],
   "source": [
    "string_columns = ['nome', 'descricao_cargo', 'escolaridade', 'orgao_atuacao', 'UPAG', 'unidade_organizacional',\n",
    "'UF_residencia', 'cidade_residencia', 'situacao']\n",
    "\n",
    "df = strip_dataframe(df, string_columns)"
   ]
  },
  {
   "cell_type": "markdown",
   "metadata": {},
   "source": [
    "### Convertendo a coluna do valor do abono para float"
   ]
  },
  {
   "cell_type": "code",
   "execution_count": 3,
   "metadata": {},
   "outputs": [],
   "source": [
    "def convert_float(numbers):\n",
    "    converted = []\n",
    "    for n in numbers:\n",
    "        n = n.replace(',', '.').strip()\n",
    "        converted.append(float(n))\n",
    "\n",
    "    return pd.Series(converted)\n",
    "\n",
    "df.valor_abono = convert_float(df.valor_abono)"
   ]
  }
 ],
 "metadata": {
  "interpreter": {
   "hash": "5cb24a176394f955b1032a3cc7cf38819f36043f0b29ce3728d6e90ef2d4368a"
  },
  "kernelspec": {
   "display_name": "Python 3.9.6 64-bit",
   "language": "python",
   "name": "python3"
  },
  "language_info": {
   "codemirror_mode": {
    "name": "ipython",
    "version": 3
   },
   "file_extension": ".py",
   "mimetype": "text/x-python",
   "name": "python",
   "nbconvert_exporter": "python",
   "pygments_lexer": "ipython3",
   "version": "3.9.6"
  },
  "orig_nbformat": 4
 },
 "nbformat": 4,
 "nbformat_minor": 2
}
