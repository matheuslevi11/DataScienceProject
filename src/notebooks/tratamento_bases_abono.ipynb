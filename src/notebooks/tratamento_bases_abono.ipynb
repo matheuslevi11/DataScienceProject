{
 "cells": [
  {
   "cell_type": "markdown",
   "metadata": {},
   "source": [
    "### Importação da base"
   ]
  },
  {
   "cell_type": "code",
   "execution_count": 1,
   "metadata": {},
   "outputs": [],
   "source": [
    "import pandas as pd"
   ]
  },
  {
   "cell_type": "code",
   "execution_count": 2,
   "metadata": {},
   "outputs": [],
   "source": [
    "column_names = ['nome', 'CPF', 'descricao_cargo', 'escolaridade', 'orgao_atuacao', 'UPAG', 'unidade_organizacional',\n",
    "'UF_residencia', 'cidade_residencia', 'situacao', 'anos_servico', 'meses_servico', 'ano/mes_inicio', 'valor_abono']\n",
    "\n",
    "df = pd.read_csv(\"../AbonoPermanenciaDatabases/ABONOP_07_2021.csv\", sep=';', index_col=False, encoding='cp860')\n",
    "df.columns = column_names"
   ]
  },
  {
   "cell_type": "markdown",
   "metadata": {},
   "source": [
    "## Coluna de Abono"
   ]
  },
  {
   "cell_type": "code",
   "execution_count": 3,
   "metadata": {},
   "outputs": [],
   "source": [
    "def convert_float(numbers):\n",
    "    converted = []\n",
    "    for n in numbers:\n",
    "        n = n.replace(',', '.').strip()\n",
    "        converted.append(float(n))\n",
    "\n",
    "    return pd.Series(converted)"
   ]
  },
  {
   "cell_type": "code",
   "execution_count": 4,
   "metadata": {},
   "outputs": [],
   "source": [
    "df.valor_abono = convert_float(df.valor_abono)"
   ]
  },
  {
   "cell_type": "markdown",
   "metadata": {},
   "source": [
    "## Removendo espaços desnecessários"
   ]
  },
  {
   "cell_type": "code",
   "execution_count": 5,
   "metadata": {},
   "outputs": [],
   "source": [
    "def strip_dataframe(df, columns):\n",
    "    for col in columns:\n",
    "        stripped = []\n",
    "        for string in df[col]:\n",
    "            stripped.append(string.strip())\n",
    "        df[col] = pd.Series(stripped)\n",
    "    return df"
   ]
  },
  {
   "cell_type": "code",
   "execution_count": 6,
   "metadata": {},
   "outputs": [],
   "source": [
    "string_columns = ['nome', 'descricao_cargo', 'escolaridade', 'orgao_atuacao', 'UPAG', 'unidade_organizacional',\n",
    "'UF_residencia', 'cidade_residencia', 'situacao']\n",
    "\n",
    "df = strip_dataframe(df, string_columns)"
   ]
  }
 ],
 "metadata": {
  "interpreter": {
   "hash": "5cb24a176394f955b1032a3cc7cf38819f36043f0b29ce3728d6e90ef2d4368a"
  },
  "kernelspec": {
   "display_name": "Python 3.9.6 64-bit",
   "language": "python",
   "name": "python3"
  },
  "language_info": {
   "codemirror_mode": {
    "name": "ipython",
    "version": 3
   },
   "file_extension": ".py",
   "mimetype": "text/x-python",
   "name": "python",
   "nbconvert_exporter": "python",
   "pygments_lexer": "ipython3",
   "version": "3.9.6"
  },
  "orig_nbformat": 4
 },
 "nbformat": 4,
 "nbformat_minor": 2
}
