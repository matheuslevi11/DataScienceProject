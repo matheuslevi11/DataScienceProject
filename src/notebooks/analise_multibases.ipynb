{
 "cells": [
  {
   "cell_type": "markdown",
   "metadata": {},
   "source": [
    "Importando todas as bases de aposentados"
   ]
  },
  {
   "cell_type": "code",
   "execution_count": 38,
   "metadata": {},
   "outputs": [],
   "source": [
    "import pandas as pd\n",
    "from script_tratamento_aposentados import tratamento_aposentados\n",
    "\n",
    "dfs = []\n",
    "filenames = ['01_2017', '01_2018', '01_2019', '06_2019', '07_2017', '07_2018', '07_2021', '11_2021']\n",
    "\n",
    "for file in filenames:\n",
    "    df = tratamento_aposentados(file)\n",
    "    dfs.append(df)"
   ]
  },
  {
   "cell_type": "code",
   "execution_count": 39,
   "metadata": {},
   "outputs": [
    {
     "data": {
      "text/plain": [
       "[None, None, None, None, None, None, None, None]"
      ]
     },
     "execution_count": 39,
     "metadata": {},
     "output_type": "execute_result"
    }
   ],
   "source": [
    "dfs"
   ]
  }
 ],
 "metadata": {
  "language_info": {
   "name": "python"
  },
  "orig_nbformat": 4
 },
 "nbformat": 4,
 "nbformat_minor": 2
}
