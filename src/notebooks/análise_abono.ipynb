{
 "cells": [
  {
   "cell_type": "markdown",
   "metadata": {},
   "source": [
    "importando as bibliotecas necessárias"
   ]
  },
  {
   "cell_type": "code",
   "execution_count": 79,
   "metadata": {},
   "outputs": [],
   "source": [
    "import pandas as pd\n",
    "import seaborn as sns\n",
    "import matplotlib.pyplot as plt\n",
    "\n",
    "sns.set()"
   ]
  },
  {
   "cell_type": "markdown",
   "metadata": {},
   "source": [
    "importando uma base de dados com o tratamento aplicado."
   ]
  },
  {
   "cell_type": "code",
   "execution_count": 80,
   "metadata": {},
   "outputs": [],
   "source": [
    "from script_tratamento_abono import tratamento_abono\n",
    "\n",
    "df = tratamento_abono(\"01_2017\")"
   ]
  },
  {
   "cell_type": "markdown",
   "metadata": {},
   "source": [
    "## Análise de bases ao longo do tempo\n",
    "\n",
    "importando todas as bases de dados entre 2017 e 2021"
   ]
  },
  {
   "cell_type": "code",
   "execution_count": 81,
   "metadata": {},
   "outputs": [],
   "source": [
    "time_series = []\n",
    "\n",
    "for year in ['2017', '2018', '2019', '2020', '2021']:\n",
    "    for month in ['01', '07']:\n",
    "        filename = f\"{month}_{year}\"\n",
    "        base = tratamento_abono(filename)\n",
    "        time_series.append(base)"
   ]
  },
  {
   "cell_type": "markdown",
   "metadata": {},
   "source": [
    "### Detecção de ruídos"
   ]
  },
  {
   "cell_type": "code",
   "execution_count": 82,
   "metadata": {},
   "outputs": [
    {
     "name": "stdout",
     "output_type": "stream",
     "text": [
      "Maior abono: 23684.62\n",
      "Segundo maior abono: 16582.59\n"
     ]
    }
   ],
   "source": [
    "maior_abono = df.valor_abono.max()\n",
    "segundo_maior_abono = df[df.valor_abono < maior_abono].valor_abono.max()\n",
    "\n",
    "print(f\"Maior abono: {maior_abono}\\nSegundo maior abono: {segundo_maior_abono}\")"
   ]
  },
  {
   "cell_type": "markdown",
   "metadata": {},
   "source": [
    "Os dois maiores valores de abono possuem uma diferença muito grande, com valores exorbitantes. Então, podemos verificar se essas pessoas de fato ganham esse valor todos os meses."
   ]
  },
  {
   "cell_type": "code",
   "execution_count": 83,
   "metadata": {},
   "outputs": [],
   "source": [
    "def show_history(NOME):\n",
    "    \"\"\"Função que busca o nome de uma pessoa em todas as bases de 2017 a 2021 para mostrar seu histórico de abono durante esse período.\"\"\"\n",
    "    filtered_db = []\n",
    "    for db in time_series:\n",
    "        filtered_db.append(db[db.nome == NOME])\n",
    "\n",
    "    values = []\n",
    "    for db in filtered_db:\n",
    "        if not db.empty:\n",
    "            row = db[db.nome == NOME]\n",
    "            values.append(int(row.valor_abono))\n",
    "        else:\n",
    "            values.append(0)\n",
    "    print(f\"Valor de abono de {NOME} recebido entre 2017 e 2021:\\n{values}\")"
   ]
  },
  {
   "cell_type": "code",
   "execution_count": 84,
   "metadata": {},
   "outputs": [
    {
     "name": "stdout",
     "output_type": "stream",
     "text": [
      "Valor de abono de SERGIO HENRIQUE GOMES RIBEIRO recebido entre 2017 e 2021:\n",
      "[23684, 2241, 2241, 2241, 2241, 2241, 2241, 2981, 2960, 2960]\n",
      "Valor de abono de AMILCAR RENNER DE VASCONCELLOS recebido entre 2017 e 2021:\n",
      "[16582, 1582, 1582, 1582, 1534, 1534, 1706, 2179, 2158, 2158]\n",
      "Valor de abono de JOSIAS PIMENTA DE SOUZA FILHO recebido entre 2017 e 2021:\n",
      "[13831, 1061, 1061, 1061, 1061, 0, 0, 0, 0, 0]\n",
      "Valor de abono de CARLOS ALBERTO CUNHA DO NASCIMENTO recebido entre 2017 e 2021:\n",
      "[12070, 927, 808, 797, 908, 776, 663, 894, 0, 0]\n"
     ]
    }
   ],
   "source": [
    "# Alguns exemplos de pessoas que receberam mais de 11 mil de abono em janeiro de 2017\n",
    "nomes_valor_abono_alto = ['SERGIO HENRIQUE GOMES RIBEIRO','AMILCAR RENNER DE VASCONCELLOS',\n",
    "'JOSIAS PIMENTA DE SOUZA FILHO','CARLOS ALBERTO CUNHA DO NASCIMENTO']\n",
    "\n",
    "for NOME in nomes_valor_abono_alto:\n",
    "    show_history(NOME)"
   ]
  },
  {
   "cell_type": "markdown",
   "metadata": {},
   "source": [
    "Ao que tudo indica, estes valores exorbitantes indicam erros ou pagamentos retroativos, já que nos meses seguintes as mesmas pessoas recebem quantidades bem menores, logo, podemos descartar estes casos da base de dados para um indicativo mais confiável dos valores de abono."
   ]
  },
  {
   "cell_type": "code",
   "execution_count": 85,
   "metadata": {},
   "outputs": [
    {
     "data": {
      "text/plain": [
       "656"
      ]
     },
     "execution_count": 85,
     "metadata": {},
     "output_type": "execute_result"
    }
   ],
   "source": [
    "df[df.valor_abono == 0].shape[0]"
   ]
  },
  {
   "cell_type": "markdown",
   "metadata": {},
   "source": [
    "656 servidores públicos que \"recebem\" 0 reais de abono, mas ainda assim estão cadastrados na base."
   ]
  },
  {
   "cell_type": "code",
   "execution_count": 86,
   "metadata": {},
   "outputs": [],
   "source": [
    "df = df[df.valor_abono < 5000]\n",
    "df = df[df.valor_abono != 0]\n",
    "for i in range(len(time_series)):\n",
    "    time_series[i] = time_series[i][time_series[i].valor_abono < 5000]\n",
    "    time_series[i] = time_series[i][time_series[i].valor_abono != 0]"
   ]
  },
  {
   "cell_type": "markdown",
   "metadata": {},
   "source": [
    "Para uma melhor análise dos dados, podemos remover o ruído."
   ]
  },
  {
   "cell_type": "markdown",
   "metadata": {},
   "source": [
    "### Análise exploratória dos dados"
   ]
  },
  {
   "cell_type": "markdown",
   "metadata": {},
   "source": [
    "média do abono permanência ao longo do tempo"
   ]
  },
  {
   "cell_type": "code",
   "execution_count": 87,
   "metadata": {},
   "outputs": [
    {
     "data": {
      "image/png": "[encoded data removed]",
      "text/plain": [
       "<Figure size 432x288 with 1 Axes>"
      ]
     },
     "metadata": {},
     "output_type": "display_data"
    }
   ],
   "source": [
    "means = []\n",
    "index = [x for x in range(len(time_series))]\n",
    "for db in time_series:\n",
    "    means.append(db.valor_abono.mean())\n",
    "\n",
    "sns.lineplot(x=index, y=means)\n",
    "plt.title(\"Média do abono ao longo do tempo\")\n",
    "plt.xlabel('Tempo')\n",
    "plt.ylabel('Média do abono')\n",
    "plt.xticks(ticks=[0,2,4,6,8], labels=[2017, 2018, 2019, 2020, 2021])\n",
    "plt.show()"
   ]
  },
  {
   "cell_type": "markdown",
   "metadata": {},
   "source": [
    "mudança na média de abono por consequência das alterações no benefício causadas pela reforma de previdência"
   ]
  },
  {
   "cell_type": "code",
   "execution_count": 88,
   "metadata": {},
   "outputs": [
    {
     "data": {
      "image/png": "[encoded data removed]",
      "text/plain": [
       "<Figure size 720x432 with 2 Axes>"
      ]
     },
     "metadata": {},
     "output_type": "display_data"
    }
   ],
   "source": [
    "fig, axes = plt.subplots(nrows=1, ncols=2, figsize=(10, 6))\n",
    "axes = axes.flatten()\n",
    "\n",
    "sns.boxplot(y=time_series[6]['valor_abono'], ax=axes[0])\n",
    "axes[0].set_xlabel('Início de 2020')\n",
    "axes[0].set_ylabel('')\n",
    "\n",
    "sns.boxplot(y=time_series[8]['valor_abono'], ax=axes[1])\n",
    "axes[1].set_xlabel('Início de 2021')\n",
    "axes[1].set_ylabel('')\n",
    "plt.show()"
   ]
  },
  {
   "cell_type": "markdown",
   "metadata": {},
   "source": [
    "Comparando lado a lado, é possível ver que o boxplot se expandiu de forma considerável, aumentando o intervalo de valores mais comuns."
   ]
  },
  {
   "cell_type": "code",
   "execution_count": 89,
   "metadata": {},
   "outputs": [
    {
     "data": {
      "text/html": [
       "<div>\n",
       "<style scoped>\n",
       "    .dataframe tbody tr th:only-of-type {\n",
       "        vertical-align: middle;\n",
       "    }\n",
       "\n",
       "    .dataframe tbody tr th {\n",
       "        vertical-align: top;\n",
       "    }\n",
       "\n",
       "    .dataframe thead th {\n",
       "        text-align: right;\n",
       "    }\n",
       "</style>\n",
       "<table border=\"1\" class=\"dataframe\">\n",
       "  <thead>\n",
       "    <tr style=\"text-align: right;\">\n",
       "      <th></th>\n",
       "      <th>count</th>\n",
       "      <th>mean</th>\n",
       "      <th>std</th>\n",
       "      <th>min</th>\n",
       "      <th>25%</th>\n",
       "      <th>50%</th>\n",
       "      <th>75%</th>\n",
       "      <th>max</th>\n",
       "    </tr>\n",
       "    <tr>\n",
       "      <th>descricao_cargo</th>\n",
       "      <th></th>\n",
       "      <th></th>\n",
       "      <th></th>\n",
       "      <th></th>\n",
       "      <th></th>\n",
       "      <th></th>\n",
       "      <th></th>\n",
       "      <th></th>\n",
       "    </tr>\n",
       "  </thead>\n",
       "  <tbody>\n",
       "    <tr>\n",
       "      <th>AGENTE ADMINISTRATIVO</th>\n",
       "      <td>10652.0</td>\n",
       "      <td>600.084584</td>\n",
       "      <td>143.539911</td>\n",
       "      <td>153.83</td>\n",
       "      <td>536.6800</td>\n",
       "      <td>556.20</td>\n",
       "      <td>607.2150</td>\n",
       "      <td>4296.56</td>\n",
       "    </tr>\n",
       "    <tr>\n",
       "      <th>TECNICO DO SEGURO SOCIAL</th>\n",
       "      <td>8916.0</td>\n",
       "      <td>1044.547038</td>\n",
       "      <td>71.374949</td>\n",
       "      <td>332.14</td>\n",
       "      <td>1020.3100</td>\n",
       "      <td>1029.11</td>\n",
       "      <td>1049.6900</td>\n",
       "      <td>2361.98</td>\n",
       "    </tr>\n",
       "    <tr>\n",
       "      <th>PROFESSOR DO MAGISTERIO SUPERIOR</th>\n",
       "      <td>7683.0</td>\n",
       "      <td>1797.953695</td>\n",
       "      <td>587.786008</td>\n",
       "      <td>191.31</td>\n",
       "      <td>1334.5500</td>\n",
       "      <td>1964.84</td>\n",
       "      <td>2218.3800</td>\n",
       "      <td>4723.24</td>\n",
       "    </tr>\n",
       "    <tr>\n",
       "      <th>AGENTE DE SAUDE PUBLICA</th>\n",
       "      <td>4574.0</td>\n",
       "      <td>661.461095</td>\n",
       "      <td>74.099963</td>\n",
       "      <td>226.91</td>\n",
       "      <td>641.5600</td>\n",
       "      <td>650.99</td>\n",
       "      <td>662.7900</td>\n",
       "      <td>2794.95</td>\n",
       "    </tr>\n",
       "    <tr>\n",
       "      <th>ASSISTENTE EM ADMINISTRACAO</th>\n",
       "      <td>4302.0</td>\n",
       "      <td>760.665116</td>\n",
       "      <td>132.383509</td>\n",
       "      <td>389.41</td>\n",
       "      <td>662.3325</td>\n",
       "      <td>767.65</td>\n",
       "      <td>810.5075</td>\n",
       "      <td>2535.87</td>\n",
       "    </tr>\n",
       "    <tr>\n",
       "      <th>AUXILIAR DE ENFERMAGEM</th>\n",
       "      <td>3804.0</td>\n",
       "      <td>591.647926</td>\n",
       "      <td>137.527022</td>\n",
       "      <td>152.54</td>\n",
       "      <td>529.6000</td>\n",
       "      <td>539.33</td>\n",
       "      <td>601.5775</td>\n",
       "      <td>1737.94</td>\n",
       "    </tr>\n",
       "    <tr>\n",
       "      <th>DATILOGRAFO</th>\n",
       "      <td>2959.0</td>\n",
       "      <td>741.081014</td>\n",
       "      <td>237.874532</td>\n",
       "      <td>272.04</td>\n",
       "      <td>536.6800</td>\n",
       "      <td>607.92</td>\n",
       "      <td>1019.1000</td>\n",
       "      <td>2252.29</td>\n",
       "    </tr>\n",
       "    <tr>\n",
       "      <th>MEDICO</th>\n",
       "      <td>2494.0</td>\n",
       "      <td>1062.860040</td>\n",
       "      <td>354.583000</td>\n",
       "      <td>244.62</td>\n",
       "      <td>820.9800</td>\n",
       "      <td>857.60</td>\n",
       "      <td>1355.5900</td>\n",
       "      <td>3939.82</td>\n",
       "    </tr>\n",
       "    <tr>\n",
       "      <th>AUX OPERAC SERVICOS DIVERSOS</th>\n",
       "      <td>2355.0</td>\n",
       "      <td>551.401771</td>\n",
       "      <td>55.167265</td>\n",
       "      <td>182.82</td>\n",
       "      <td>529.6000</td>\n",
       "      <td>535.07</td>\n",
       "      <td>553.1900</td>\n",
       "      <td>1253.77</td>\n",
       "    </tr>\n",
       "    <tr>\n",
       "      <th>AGENTE DE PORTARIA</th>\n",
       "      <td>2270.0</td>\n",
       "      <td>573.299802</td>\n",
       "      <td>126.083707</td>\n",
       "      <td>116.02</td>\n",
       "      <td>531.9600</td>\n",
       "      <td>543.75</td>\n",
       "      <td>573.0125</td>\n",
       "      <td>4356.29</td>\n",
       "    </tr>\n",
       "    <tr>\n",
       "      <th>PROFESSOR ENS BASICO TECN TECNOLOGICO</th>\n",
       "      <td>2046.0</td>\n",
       "      <td>1464.706652</td>\n",
       "      <td>553.057707</td>\n",
       "      <td>313.35</td>\n",
       "      <td>1028.0800</td>\n",
       "      <td>1328.78</td>\n",
       "      <td>1986.6200</td>\n",
       "      <td>4645.21</td>\n",
       "    </tr>\n",
       "    <tr>\n",
       "      <th>AUDITOR-FISCAL DA RECEITA FEDERAL BRASIL</th>\n",
       "      <td>1944.0</td>\n",
       "      <td>2695.036127</td>\n",
       "      <td>270.759900</td>\n",
       "      <td>354.23</td>\n",
       "      <td>2748.2700</td>\n",
       "      <td>2748.27</td>\n",
       "      <td>2748.2700</td>\n",
       "      <td>4469.52</td>\n",
       "    </tr>\n",
       "    <tr>\n",
       "      <th>MOTORISTA OFICIAL</th>\n",
       "      <td>1880.0</td>\n",
       "      <td>651.014888</td>\n",
       "      <td>180.640656</td>\n",
       "      <td>250.60</td>\n",
       "      <td>543.7500</td>\n",
       "      <td>603.14</td>\n",
       "      <td>656.8325</td>\n",
       "      <td>3964.00</td>\n",
       "    </tr>\n",
       "    <tr>\n",
       "      <th>AGENTE DE SERVICOS DIVERSOS</th>\n",
       "      <td>1333.0</td>\n",
       "      <td>1038.493098</td>\n",
       "      <td>81.255853</td>\n",
       "      <td>580.75</td>\n",
       "      <td>1019.1000</td>\n",
       "      <td>1021.52</td>\n",
       "      <td>1038.7300</td>\n",
       "      <td>2591.23</td>\n",
       "    </tr>\n",
       "    <tr>\n",
       "      <th>TEC INFOR GEOGRAFICAS E ESTATISTICA</th>\n",
       "      <td>1273.0</td>\n",
       "      <td>992.525185</td>\n",
       "      <td>91.479122</td>\n",
       "      <td>377.91</td>\n",
       "      <td>976.5700</td>\n",
       "      <td>993.03</td>\n",
       "      <td>1008.7200</td>\n",
       "      <td>2102.42</td>\n",
       "    </tr>\n",
       "    <tr>\n",
       "      <th>AGENTE DE VIGILANCIA</th>\n",
       "      <td>1261.0</td>\n",
       "      <td>665.726709</td>\n",
       "      <td>203.724995</td>\n",
       "      <td>271.17</td>\n",
       "      <td>529.6000</td>\n",
       "      <td>559.19</td>\n",
       "      <td>684.4300</td>\n",
       "      <td>1560.90</td>\n",
       "    </tr>\n",
       "    <tr>\n",
       "      <th>ADMINISTRADOR</th>\n",
       "      <td>1061.0</td>\n",
       "      <td>1340.063713</td>\n",
       "      <td>281.783101</td>\n",
       "      <td>593.39</td>\n",
       "      <td>1096.8500</td>\n",
       "      <td>1344.58</td>\n",
       "      <td>1492.2100</td>\n",
       "      <td>2942.01</td>\n",
       "    </tr>\n",
       "    <tr>\n",
       "      <th>AUX EM ADMINISTRACAO</th>\n",
       "      <td>1033.0</td>\n",
       "      <td>583.505557</td>\n",
       "      <td>110.081960</td>\n",
       "      <td>52.58</td>\n",
       "      <td>528.4000</td>\n",
       "      <td>577.59</td>\n",
       "      <td>617.5300</td>\n",
       "      <td>2057.06</td>\n",
       "    </tr>\n",
       "    <tr>\n",
       "      <th>ENFERMEIRO</th>\n",
       "      <td>980.0</td>\n",
       "      <td>1134.373704</td>\n",
       "      <td>248.220217</td>\n",
       "      <td>251.67</td>\n",
       "      <td>1039.7175</td>\n",
       "      <td>1052.28</td>\n",
       "      <td>1133.5800</td>\n",
       "      <td>2531.14</td>\n",
       "    </tr>\n",
       "    <tr>\n",
       "      <th>AGENTE DE INSP SANIT IND PROD ORIGEM ANI</th>\n",
       "      <td>949.0</td>\n",
       "      <td>1074.974046</td>\n",
       "      <td>99.421232</td>\n",
       "      <td>316.23</td>\n",
       "      <td>1046.6800</td>\n",
       "      <td>1064.90</td>\n",
       "      <td>1078.9200</td>\n",
       "      <td>1778.02</td>\n",
       "    </tr>\n",
       "  </tbody>\n",
       "</table>\n",
       "</div>"
      ],
      "text/plain": [
       "                                            count         mean         std  \\\n",
       "descricao_cargo                                                              \n",
       "AGENTE ADMINISTRATIVO                     10652.0   600.084584  143.539911   \n",
       "TECNICO DO SEGURO SOCIAL                   8916.0  1044.547038   71.374949   \n",
       "PROFESSOR DO MAGISTERIO SUPERIOR           7683.0  1797.953695  587.786008   \n",
       "AGENTE DE SAUDE PUBLICA                    4574.0   661.461095   74.099963   \n",
       "ASSISTENTE EM ADMINISTRACAO                4302.0   760.665116  132.383509   \n",
       "AUXILIAR DE ENFERMAGEM                     3804.0   591.647926  137.527022   \n",
       "DATILOGRAFO                                2959.0   741.081014  237.874532   \n",
       "MEDICO                                     2494.0  1062.860040  354.583000   \n",
       "AUX OPERAC SERVICOS DIVERSOS               2355.0   551.401771   55.167265   \n",
       "AGENTE DE PORTARIA                         2270.0   573.299802  126.083707   \n",
       "PROFESSOR ENS BASICO TECN TECNOLOGICO      2046.0  1464.706652  553.057707   \n",
       "AUDITOR-FISCAL DA RECEITA FEDERAL BRASIL   1944.0  2695.036127  270.759900   \n",
       "MOTORISTA OFICIAL                          1880.0   651.014888  180.640656   \n",
       "AGENTE DE SERVICOS DIVERSOS                1333.0  1038.493098   81.255853   \n",
       "TEC INFOR GEOGRAFICAS E ESTATISTICA        1273.0   992.525185   91.479122   \n",
       "AGENTE DE VIGILANCIA                       1261.0   665.726709  203.724995   \n",
       "ADMINISTRADOR                              1061.0  1340.063713  281.783101   \n",
       "AUX EM ADMINISTRACAO                       1033.0   583.505557  110.081960   \n",
       "ENFERMEIRO                                  980.0  1134.373704  248.220217   \n",
       "AGENTE DE INSP SANIT IND PROD ORIGEM ANI    949.0  1074.974046   99.421232   \n",
       "\n",
       "                                             min        25%      50%  \\\n",
       "descricao_cargo                                                        \n",
       "AGENTE ADMINISTRATIVO                     153.83   536.6800   556.20   \n",
       "TECNICO DO SEGURO SOCIAL                  332.14  1020.3100  1029.11   \n",
       "PROFESSOR DO MAGISTERIO SUPERIOR          191.31  1334.5500  1964.84   \n",
       "AGENTE DE SAUDE PUBLICA                   226.91   641.5600   650.99   \n",
       "ASSISTENTE EM ADMINISTRACAO               389.41   662.3325   767.65   \n",
       "AUXILIAR DE ENFERMAGEM                    152.54   529.6000   539.33   \n",
       "DATILOGRAFO                               272.04   536.6800   607.92   \n",
       "MEDICO                                    244.62   820.9800   857.60   \n",
       "AUX OPERAC SERVICOS DIVERSOS              182.82   529.6000   535.07   \n",
       "AGENTE DE PORTARIA                        116.02   531.9600   543.75   \n",
       "PROFESSOR ENS BASICO TECN TECNOLOGICO     313.35  1028.0800  1328.78   \n",
       "AUDITOR-FISCAL DA RECEITA FEDERAL BRASIL  354.23  2748.2700  2748.27   \n",
       "MOTORISTA OFICIAL                         250.60   543.7500   603.14   \n",
       "AGENTE DE SERVICOS DIVERSOS               580.75  1019.1000  1021.52   \n",
       "TEC INFOR GEOGRAFICAS E ESTATISTICA       377.91   976.5700   993.03   \n",
       "AGENTE DE VIGILANCIA                      271.17   529.6000   559.19   \n",
       "ADMINISTRADOR                             593.39  1096.8500  1344.58   \n",
       "AUX EM ADMINISTRACAO                       52.58   528.4000   577.59   \n",
       "ENFERMEIRO                                251.67  1039.7175  1052.28   \n",
       "AGENTE DE INSP SANIT IND PROD ORIGEM ANI  316.23  1046.6800  1064.90   \n",
       "\n",
       "                                                75%      max  \n",
       "descricao_cargo                                               \n",
       "AGENTE ADMINISTRATIVO                      607.2150  4296.56  \n",
       "TECNICO DO SEGURO SOCIAL                  1049.6900  2361.98  \n",
       "PROFESSOR DO MAGISTERIO SUPERIOR          2218.3800  4723.24  \n",
       "AGENTE DE SAUDE PUBLICA                    662.7900  2794.95  \n",
       "ASSISTENTE EM ADMINISTRACAO                810.5075  2535.87  \n",
       "AUXILIAR DE ENFERMAGEM                     601.5775  1737.94  \n",
       "DATILOGRAFO                               1019.1000  2252.29  \n",
       "MEDICO                                    1355.5900  3939.82  \n",
       "AUX OPERAC SERVICOS DIVERSOS               553.1900  1253.77  \n",
       "AGENTE DE PORTARIA                         573.0125  4356.29  \n",
       "PROFESSOR ENS BASICO TECN TECNOLOGICO     1986.6200  4645.21  \n",
       "AUDITOR-FISCAL DA RECEITA FEDERAL BRASIL  2748.2700  4469.52  \n",
       "MOTORISTA OFICIAL                          656.8325  3964.00  \n",
       "AGENTE DE SERVICOS DIVERSOS               1038.7300  2591.23  \n",
       "TEC INFOR GEOGRAFICAS E ESTATISTICA       1008.7200  2102.42  \n",
       "AGENTE DE VIGILANCIA                       684.4300  1560.90  \n",
       "ADMINISTRADOR                             1492.2100  2942.01  \n",
       "AUX EM ADMINISTRACAO                       617.5300  2057.06  \n",
       "ENFERMEIRO                                1133.5800  2531.14  \n",
       "AGENTE DE INSP SANIT IND PROD ORIGEM ANI  1078.9200  1778.02  "
      ]
     },
     "execution_count": 89,
     "metadata": {},
     "output_type": "execute_result"
    }
   ],
   "source": [
    "df.groupby(df.descricao_cargo)['valor_abono'].describe().sort_values('count', axis=0, ascending=False).head(20)"
   ]
  },
  {
   "cell_type": "markdown",
   "metadata": {},
   "source": [
    "A maioria dos cargos possuem valores de abono instáveis, portanto não são um bom indicativo do valor de abono."
   ]
  }
 ],
 "metadata": {
  "interpreter": {
   "hash": "5cb24a176394f955b1032a3cc7cf38819f36043f0b29ce3728d6e90ef2d4368a"
  },
  "kernelspec": {
   "display_name": "Python 3.9.6 64-bit",
   "language": "python",
   "name": "python3"
  },
  "language_info": {
   "codemirror_mode": {
    "name": "ipython",
    "version": 3
   },
   "file_extension": ".py",
   "mimetype": "text/x-python",
   "name": "python",
   "nbconvert_exporter": "python",
   "pygments_lexer": "ipython3",
   "version": "3.9.6"
  },
  "orig_nbformat": 4
 },
 "nbformat": 4,
 "nbformat_minor": 2
}
