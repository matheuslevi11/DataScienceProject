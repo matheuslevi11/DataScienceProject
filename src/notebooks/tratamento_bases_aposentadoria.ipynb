{
 "cells": [
  {
   "cell_type": "markdown",
   "metadata": {},
   "source": [
    "### Importação da base\n",
    "\n",
    "Foram baixados e carregados na pasta AposentadosDatabases, bases de dados correspondentes a todos os aposentados sob o regime jurídico único do Poder Executivo Federal Civil, de alguns meses entre 2017 e 2021.\n",
    "\n",
    "download feito através do site: http://www.dados.gov.br/dataset/aposentados-poder-executivo-federal\n",
    "\n",
    "Todas as bases são de domínio público."
   ]
  },
  {
   "cell_type": "code",
   "execution_count": 31,
   "metadata": {},
   "outputs": [],
   "source": [
    "import pandas as pd\n",
    "\n",
    "column_names = ['nome', 'CPF', 'matricula', 'nome_orgao', 'sigla_orgao', 'codigo_orgao', 'desc_cargo', 'classe_cargo',\n",
    "'padrao_cargo', 'ref_cargo', 'nivel_cargo', 'tipo_aposentadoria', 'fundamentacao', 'ato_aposentadoria', 'data_aposentadoria',\n",
    "'tipo_ingresso', 'data_ingresso', 'valor_aposentadoria']\n",
    "\n",
    "df = pd.read_csv(\"../AposentadosDatabases/APOSENTADOS_07_2021.csv\", sep=';', index_col=False, encoding='cp860', names=column_names)"
   ]
  },
  {
   "cell_type": "markdown",
   "metadata": {},
   "source": [
    "### Padronizando os campos"
   ]
  },
  {
   "cell_type": "markdown",
   "metadata": {},
   "source": [
    "removendo espaços no início e no fim das entradas"
   ]
  },
  {
   "cell_type": "code",
   "execution_count": 74,
   "metadata": {},
   "outputs": [],
   "source": [
    "def strip_dataframe(df, columns):\n",
    "    for col in columns:\n",
    "        stripped = []\n",
    "        for string in df[col]:\n",
    "            stripped.append(string.strip())\n",
    "        df[col] = pd.Series(stripped)\n",
    "    return df"
   ]
  },
  {
   "cell_type": "code",
   "execution_count": 75,
   "metadata": {},
   "outputs": [],
   "source": [
    "string_columns = ['nome', 'CPF', 'nome_orgao', 'sigla_orgao', 'desc_cargo', 'classe_cargo',\n",
    "'padrao_cargo', 'tipo_aposentadoria', 'fundamentacao', 'ato_aposentadoria']\n",
    "\n",
    "df = strip_dataframe(df, string_columns)"
   ]
  },
  {
   "cell_type": "markdown",
   "metadata": {},
   "source": [
    "convertendo a coluna de valor da aposentadoria para float"
   ]
  },
  {
   "cell_type": "code",
   "execution_count": 76,
   "metadata": {},
   "outputs": [],
   "source": [
    "def convert_float(numbers):\n",
    "    converted = []\n",
    "    for n in numbers:\n",
    "        n = n.replace('.', '').strip()\n",
    "        n = n.replace(',', '.')\n",
    "        converted.append(float(n))\n",
    "\n",
    "    return pd.Series(converted)"
   ]
  },
  {
   "cell_type": "code",
   "execution_count": 77,
   "metadata": {},
   "outputs": [],
   "source": [
    "df.valor_aposentadoria = convert_float(df.valor_aposentadoria)"
   ]
  },
  {
   "cell_type": "markdown",
   "metadata": {},
   "source": [
    "convertendo as datas para datetime do pandas"
   ]
  },
  {
   "cell_type": "code",
   "execution_count": 36,
   "metadata": {},
   "outputs": [],
   "source": [
    "def parse_date(dates):\n",
    "    parsed = []\n",
    "    for date in dates:\n",
    "        date = str(date)\n",
    "        if len(date) == 8:\n",
    "            day = date[0] + date[1]\n",
    "            month = date[2] + date[3]\n",
    "            year = date[4] + date[5] + date[6] + date[7]\n",
    "        else:\n",
    "            day = '0' + date[0]\n",
    "            month = date[1] + date[2]\n",
    "            year = date[3] + date[4] + date[5] + date[6]\n",
    "        parsed.append(year+'-'+month+'-'+day)\n",
    "    return pd.Series(parsed)    "
   ]
  },
  {
   "cell_type": "code",
   "execution_count": 79,
   "metadata": {},
   "outputs": [],
   "source": [
    "df.data_aposentadoria = parse_date(df.data_aposentadoria)\n",
    "df.data_aposentadoria = pd.to_datetime(df.data_aposentadoria)\n",
    "\n",
    "df.data_ingresso = parse_date(df.data_ingresso)\n",
    "df.data_ingresso = pd.to_datetime(df.data_ingresso)\n",
    "\n",
    "df['data_aposentadoria'] = df['data_aposentadoria'].dt.date\n",
    "df['data_ingresso'] = df['data_ingresso'].dt.date"
   ]
  },
  {
   "cell_type": "code",
   "execution_count": null,
   "metadata": {},
   "outputs": [],
   "source": [
    "df = df.drop('ato_aposentadoria', axis=1)"
   ]
  },
  {
   "cell_type": "markdown",
   "metadata": {},
   "source": [
    "Por fim, removendo a coluna que está vazia."
   ]
  }
 ],
 "metadata": {
  "interpreter": {
   "hash": "5cb24a176394f955b1032a3cc7cf38819f36043f0b29ce3728d6e90ef2d4368a"
  },
  "kernelspec": {
   "display_name": "Python 3.9.6 64-bit",
   "language": "python",
   "name": "python3"
  },
  "language_info": {
   "codemirror_mode": {
    "name": "ipython",
    "version": 3
   },
   "file_extension": ".py",
   "mimetype": "text/x-python",
   "name": "python",
   "nbconvert_exporter": "python",
   "pygments_lexer": "ipython3",
   "version": "3.9.6"
  },
  "orig_nbformat": 4
 },
 "nbformat": 4,
 "nbformat_minor": 2
}
