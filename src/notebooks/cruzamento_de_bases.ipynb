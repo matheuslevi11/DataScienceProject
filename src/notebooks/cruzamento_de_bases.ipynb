{
 "cells": [
  {
   "cell_type": "markdown",
   "metadata": {},
   "source": [
    "Importando todas as bibliotecas e bases de dados de abono e aposentadoria:"
   ]
  },
  {
   "cell_type": "code",
   "execution_count": 1,
   "metadata": {},
   "outputs": [],
   "source": [
    "import pandas as pd\n",
    "import seaborn as sns\n",
    "import matplotlib.pyplot as plt\n",
    "\n",
    "sns.set()"
   ]
  },
  {
   "cell_type": "code",
   "execution_count": 2,
   "metadata": {},
   "outputs": [],
   "source": [
    "from script_tratamento_abono import tratamento_abono\n",
    "\n",
    "time_series_abono = []\n",
    "\n",
    "for year in ['2017', '2018', '2019', '2020', '2021']:\n",
    "    for month in ['01', '07']:\n",
    "        filename = f\"{month}_{year}\"\n",
    "        base = tratamento_abono(filename)\n",
    "        time_series_abono.append(base)"
   ]
  },
  {
   "cell_type": "code",
   "execution_count": 3,
   "metadata": {},
   "outputs": [],
   "source": [
    "from script_tratamento_aposentados import tratamento_aposentados\n",
    "\n",
    "time_series_aposentadoria = []\n",
    "filenames = ['01_2017', '07_2017', '01_2018', '07_2018','01_2019', '06_2019', '05_2020', '07_2021', '11_2021']\n",
    "\n",
    "for file in filenames:\n",
    "    df = tratamento_aposentados(file)\n",
    "    time_series_aposentadoria.append(df)"
   ]
  },
  {
   "cell_type": "markdown",
   "metadata": {},
   "source": [
    "## Cruzando as bases de dados"
   ]
  },
  {
   "cell_type": "markdown",
   "metadata": {},
   "source": [
    "Cruzando a base de dados de abono com a de aposentadoria, obtendo uma base de pessoas que receberam abono e já se aposentaram"
   ]
  },
  {
   "cell_type": "code",
   "execution_count": null,
   "metadata": {},
   "outputs": [],
   "source": [
    "df = time_series_abono[0]\n",
    "aposentadoria_df_completo = pd.concat(time_series_aposentadoria)\n",
    "full_matched_df = df.merge(aposentadoria_df_completo, on=\"CPF\")"
   ]
  },
  {
   "cell_type": "markdown",
   "metadata": {},
   "source": [
    "Depois, extraímos somente as colunas que nos interessam e exportamos o csv"
   ]
  },
  {
   "cell_type": "code",
   "execution_count": 35,
   "metadata": {},
   "outputs": [],
   "source": [
    "feature_names = ['nome_x', 'escolaridade', 'UF_residencia', 'anos_servico', 'valor_abono', 'valor_aposentadoria']\n",
    "full_matched_df = full_matched_df.filter(items=feature_names)\n",
    "full_match_df = full_matched_df.rename(columns={'nome_x': 'nome'})"
   ]
  },
  {
   "cell_type": "code",
   "execution_count": 38,
   "metadata": {},
   "outputs": [],
   "source": [
    "full_matched_df.to_csv(\"servidores.csv\")"
   ]
  }
 ],
 "metadata": {
  "interpreter": {
   "hash": "5cb24a176394f955b1032a3cc7cf38819f36043f0b29ce3728d6e90ef2d4368a"
  },
  "kernelspec": {
   "display_name": "Python 3.9.6 64-bit",
   "language": "python",
   "name": "python3"
  },
  "language_info": {
   "codemirror_mode": {
    "name": "ipython",
    "version": 3
   },
   "file_extension": ".py",
   "mimetype": "text/x-python",
   "name": "python",
   "nbconvert_exporter": "python",
   "pygments_lexer": "ipython3",
   "version": "3.9.6"
  },
  "orig_nbformat": 4
 },
 "nbformat": 4,
 "nbformat_minor": 2
}
