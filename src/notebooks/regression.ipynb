{
 "cells": [
  {
   "cell_type": "markdown",
   "metadata": {},
   "source": [
    "## Predição de valor de aposentadoria\n",
    "\n",
    "Partindo de um servidor público que recebe abono permanência, deseja-se estimar seu ganho quando se aposentar"
   ]
  },
  {
   "cell_type": "code",
   "execution_count": 78,
   "metadata": {},
   "outputs": [],
   "source": [
    "import pandas as pd\n",
    "\n",
    "df = pd.read_csv(\"../servidores.csv\")"
   ]
  },
  {
   "cell_type": "markdown",
   "metadata": {},
   "source": [
    "Como os nomes não interessam ao modelo, podemos retirá-lo da tabela"
   ]
  },
  {
   "cell_type": "code",
   "execution_count": 79,
   "metadata": {},
   "outputs": [],
   "source": [
    "df = df.drop('nome', axis=1)\n",
    "df = df.dropna()"
   ]
  },
  {
   "cell_type": "markdown",
   "metadata": {},
   "source": [
    "Convertendo a coluna de escolaridade em uma coluna numérica"
   ]
  },
  {
   "cell_type": "code",
   "execution_count": 80,
   "metadata": {},
   "outputs": [],
   "source": [
    "discrete_esco = []\n",
    "\n",
    "for esco in df.escolaridade:\n",
    "    if esco == \"SEGUNDO GRAU INCOMPLETO\" or esco == \"4A. SERIE DO PRIMEIRO GRAU COMPLETA\":\n",
    "        discrete_esco.append(0)\n",
    "    elif esco == \"ALFABETIZADO SEM CURSOS REGULARES\" or esco == \"ENSINO FUNDAMENTAL INCOMPLETO\":\n",
    "        discrete_esco.append(1)\n",
    "    elif esco == \"ENSINO FUNDAMENTAL\" or esco == \"ENSINO MEDIO\":\n",
    "        discrete_esco.append(2)\n",
    "    elif esco == \"SUPERIOR INCOMPLETO\" or esco == \"ENSINO SUPERIOR\":\n",
    "        discrete_esco.append(3)\n",
    "    else:\n",
    "        discrete_esco.append(4)\n",
    "\n",
    "df['escolaridade'] = discrete_esco"
   ]
  },
  {
   "cell_type": "code",
   "execution_count": 81,
   "metadata": {},
   "outputs": [],
   "source": [
    "# Ordenando os estados pela quantidade de ocorrências\n",
    "ordered_estates = []\n",
    "key = df.UF_residencia.value_counts().index\n",
    "for i in range(27):\n",
    "    ordered_estates.append(key[i])\n",
    "\n",
    "ordered_estates = ordered_estates[::-1]\n",
    "\n",
    "discrete_uf = []\n",
    "for uf in df.UF_residencia:\n",
    "    for i in range(27):\n",
    "        if ordered_estates[i] == uf:\n",
    "            discrete_uf.append(i)\n",
    "\n",
    "df.UF_residencia = discrete_uf"
   ]
  },
  {
   "cell_type": "markdown",
   "metadata": {},
   "source": [
    "Preparando os dados de treinamento e teste"
   ]
  },
  {
   "cell_type": "code",
   "execution_count": 85,
   "metadata": {},
   "outputs": [],
   "source": [
    "from sklearn.model_selection import train_test_split\n",
    "\n",
    "X = df.drop('valor_aposentadoria', axis=1)\n",
    "y = df.valor_aposentadoria\n",
    "\n",
    "\n",
    "X_train, X_test, y_train, y_test = train_test_split(X, y, test_size=0.25, random_state=11)"
   ]
  },
  {
   "cell_type": "markdown",
   "metadata": {},
   "source": [
    "realizando o treinamento utilizando um modelo de RandomForest para regressão"
   ]
  },
  {
   "cell_type": "code",
   "execution_count": 86,
   "metadata": {},
   "outputs": [
    {
     "data": {
      "text/plain": [
       "RandomForestRegressor()"
      ]
     },
     "execution_count": 86,
     "metadata": {},
     "output_type": "execute_result"
    }
   ],
   "source": [
    "from sklearn.ensemble import RandomForestRegressor\n",
    "\n",
    "model = RandomForestRegressor()\n",
    "model.fit(X_train, y_train)"
   ]
  },
  {
   "cell_type": "code",
   "execution_count": 88,
   "metadata": {},
   "outputs": [
    {
     "name": "stdout",
     "output_type": "stream",
     "text": [
      "10-fold Score: 0.13669317466190764\n"
     ]
    }
   ],
   "source": [
    "from sklearn.metrics import f1_score\n",
    "from sklearn.model_selection import cross_validate\n",
    "\n",
    "# Testando os modelos contra os dados de teste\n",
    "y_pred = model.predict(X_test)\n",
    "\n",
    "# F1 Score\n",
    "#f1_score = f1_score(y_test, y_pred, average='macro')\n",
    "\n",
    "#print(f\"F1 Score: {f1_score}\\n\")\n",
    "\n",
    "# K-fold cross-validation\n",
    "k = 10\n",
    "results = cross_validate(model, X_train,y_train, cv = k)\n",
    "\n",
    "print(f\"10-fold Score: {results['test_score'].mean()}\")"
   ]
  }
 ],
 "metadata": {
  "interpreter": {
   "hash": "5cb24a176394f955b1032a3cc7cf38819f36043f0b29ce3728d6e90ef2d4368a"
  },
  "kernelspec": {
   "display_name": "Python 3.9.6 64-bit",
   "language": "python",
   "name": "python3"
  },
  "language_info": {
   "codemirror_mode": {
    "name": "ipython",
    "version": 3
   },
   "file_extension": ".py",
   "mimetype": "text/x-python",
   "name": "python",
   "nbconvert_exporter": "python",
   "pygments_lexer": "ipython3",
   "version": "3.9.6"
  },
  "orig_nbformat": 4
 },
 "nbformat": 4,
 "nbformat_minor": 2
}
