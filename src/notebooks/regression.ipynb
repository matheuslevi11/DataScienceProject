{
 "cells": [
  {
   "cell_type": "markdown",
   "metadata": {},
   "source": [
    "## Predição de valor de aposentadoria\n",
    "\n",
    "Partindo de um servidor público que recebe abono permanência, deseja-se estimar seu ganho quando se aposentar"
   ]
  },
  {
   "cell_type": "code",
   "execution_count": 3,
   "metadata": {},
   "outputs": [],
   "source": [
    "import pandas as pd\n",
    "\n",
    "df = pd.read_csv(\"../servidores.csv\")"
   ]
  },
  {
   "cell_type": "markdown",
   "metadata": {},
   "source": [
    "Como os nomes não interessam ao modelo, podemos retirá-lo da tabela"
   ]
  },
  {
   "cell_type": "code",
   "execution_count": 4,
   "metadata": {},
   "outputs": [],
   "source": [
    "df = df.drop('nome', axis=1)\n",
    "df = df.dropna()"
   ]
  },
  {
   "cell_type": "markdown",
   "metadata": {},
   "source": [
    "Convertendo a coluna de escolaridade em uma coluna numérica"
   ]
  },
  {
   "cell_type": "code",
   "execution_count": 5,
   "metadata": {},
   "outputs": [],
   "source": [
    "discrete_esco = []\n",
    "\n",
    "for esco in df.escolaridade:\n",
    "    if esco == \"SEGUNDO GRAU INCOMPLETO\" or esco == \"4A. SERIE DO PRIMEIRO GRAU COMPLETA\":\n",
    "        discrete_esco.append(0)\n",
    "    elif esco == \"ALFABETIZADO SEM CURSOS REGULARES\" or esco == \"ENSINO FUNDAMENTAL INCOMPLETO\":\n",
    "        discrete_esco.append(1)\n",
    "    elif esco == \"ENSINO FUNDAMENTAL\" or esco == \"ENSINO MEDIO\":\n",
    "        discrete_esco.append(2)\n",
    "    elif esco == \"SUPERIOR INCOMPLETO\" or esco == \"ENSINO SUPERIOR\":\n",
    "        discrete_esco.append(3)\n",
    "    else:\n",
    "        discrete_esco.append(4)\n",
    "\n",
    "df['escolaridade'] = discrete_esco"
   ]
  },
  {
   "cell_type": "markdown",
   "metadata": {},
   "source": [
    "Preparando os dados de treinamento e teste"
   ]
  },
  {
   "cell_type": "code",
   "execution_count": 6,
   "metadata": {},
   "outputs": [],
   "source": [
    "from sklearn.model_selection import train_test_split\n",
    "\n",
    "X = df.drop('valor_aposentadoria', axis=1)\n",
    "y = df.valor_aposentadoria\n",
    "\n",
    "\n",
    "X_train, X_test, y_train, y_test = train_test_split(X, y, test_size=0.25, random_state=11)"
   ]
  },
  {
   "cell_type": "markdown",
   "metadata": {},
   "source": [
    "realizando o treinamento utilizando um modelo de RandomForest para regressão"
   ]
  },
  {
   "cell_type": "code",
   "execution_count": 10,
   "metadata": {},
   "outputs": [],
   "source": [
    "from sklearn.ensemble import RandomForestRegressor\n",
    "\n",
    "model = RandomForestRegressor(n_estimators=150, criterion=\"absolute_error\")\n",
    "model.fit(X_train, y_train)\n",
    "\n",
    "y_pred = model.predict(X_test)"
   ]
  },
  {
   "cell_type": "markdown",
   "metadata": {},
   "source": [
    "Avaliando o erro médio absoluto do modelo"
   ]
  },
  {
   "cell_type": "code",
   "execution_count": 11,
   "metadata": {},
   "outputs": [
    {
     "name": "stdout",
     "output_type": "stream",
     "text": [
      "3386.083455368421\n"
     ]
    }
   ],
   "source": [
    "from sklearn.metrics import mean_absolute_error\n",
    "\n",
    "MAE = mean_absolute_error(y_test,y_pred)\n",
    "print(MAE)"
   ]
  },
  {
   "cell_type": "markdown",
   "metadata": {},
   "source": [
    "Avaliando o modelo por meio de amostragem k-fold cross-validation"
   ]
  },
  {
   "cell_type": "code",
   "execution_count": 12,
   "metadata": {},
   "outputs": [
    {
     "name": "stdout",
     "output_type": "stream",
     "text": [
      "10-fold Score: 0.2865357646663107\n"
     ]
    }
   ],
   "source": [
    "from sklearn.model_selection import cross_validate\n",
    "\n",
    "# K-fold cross-validation\n",
    "results = cross_validate(model, X_train,y_train, cv = 10)\n",
    "\n",
    "print(f\"10-fold Score: {results['test_score'].mean()}\")"
   ]
  }
 ],
 "metadata": {
  "interpreter": {
   "hash": "5cb24a176394f955b1032a3cc7cf38819f36043f0b29ce3728d6e90ef2d4368a"
  },
  "kernelspec": {
   "display_name": "Python 3.9.6 64-bit",
   "language": "python",
   "name": "python3"
  },
  "language_info": {
   "codemirror_mode": {
    "name": "ipython",
    "version": 3
   },
   "file_extension": ".py",
   "mimetype": "text/x-python",
   "name": "python",
   "nbconvert_exporter": "python",
   "pygments_lexer": "ipython3",
   "version": "3.9.6"
  },
  "orig_nbformat": 4
 },
 "nbformat": 4,
 "nbformat_minor": 2
}
